{
 "cells": [
  {
   "cell_type": "code",
   "execution_count": 1,
   "metadata": {},
   "outputs": [],
   "source": [
    "import os\n",
    "import pandas as pd\n",
    "import matplotlib.pyplot as plt\n",
    "import seaborn as sns"
   ]
  },
  {
   "cell_type": "code",
   "execution_count": null,
   "metadata": {},
   "outputs": [],
   "source": [
    "# --- Setup ---\n",
    "DATA_PATH = \"/mnt/big_gulp/nc4_rat_data/Maze_Rats\"\n",
    "rat_id = 19\n",
    "rat_dir = f\"NC400{rat_id}\"\n",
    "session_dates = sorted(os.listdir(os.path.join(DATA_PATH, rat_dir)))  # e.g., ['250428', '250429']\n",
    "\n",
    "# Where the cumulative analysis file is stored\n",
    "summary_csv_path = os.path.join(DATA_PATH, rat_dir, \"Processed\", \"cumulative_summary.csv\")\n",
    "\n",
    "# Load existing summary if it exists\n",
    "if os.path.exists(summary_csv_path):\n",
    "    df_summary = pd.read_csv(summary_csv_path)\n",
    "    analyzed_dates = set(df_summary[\"session_date\"].astype(str))\n",
    "    print(f\"Already analyzed: {sorted(analyzed_dates)}\")\n",
    "else:\n",
    "    df_summary = pd.DataFrame()\n",
    "    analyzed_dates = set()"
   ]
  },
  {
   "cell_type": "code",
   "execution_count": null,
   "metadata": {},
   "outputs": [],
   "source": [
    "# Collect new sessions\n",
    "new_summaries = []\n",
    "\n",
    "for date in session_dates:\n",
    "    if date in analyzed_dates:\n",
    "        continue\n",
    "\n",
    "    session_csv_path = os.path.join(DATA_PATH, rat_dir, date, \"Processed\", \"session_data\", \"trials_df.csv\")\n",
    "    if not os.path.exists(session_csv_path):\n",
    "        continue\n",
    "\n",
    "    df = pd.read_csv(session_csv_path)\n",
    "    percent_correct = df[\"correct\"].mean() * 100\n",
    "    avg_response_time = df[\"response_time\"].mean()\n",
    "    summary = {\n",
    "        \"rat_id\": rat_id,\n",
    "        \"session_date\": date,\n",
    "        \"n_trials\": len(df),\n",
    "        \"percent_correct\": percent_correct,\n",
    "        \"avg_response_time\": avg_response_time,\n",
    "    }\n",
    "    new_summaries.append(summary)\n",
    "    print(f\"Added {date}: {percent_correct:.1f}% correct, {avg_response_time:.2f}s RT\")\n",
    "\n",
    "# Update summary dataframe\n",
    "if new_summaries:\n",
    "    df_summary = pd.concat([df_summary, pd.DataFrame(new_summaries)], ignore_index=True)\n",
    "    df_summary = df_summary.sort_values(by=\"session_date\")\n",
    "    df_summary.to_csv(summary_csv_path, index=False)\n",
    "    print(f\"Updated summary saved to: {summary_csv_path}\")\n",
    "else:\n",
    "    print(\"No new sessions to add.\")"
   ]
  },
  {
   "cell_type": "code",
   "execution_count": null,
   "metadata": {},
   "outputs": [],
   "source": [
    "# --- Plotting ---\n",
    "if not df_summary.empty:\n",
    "    plt.figure(figsize=(10, 5))\n",
    "    sns.lineplot(data=df_summary, x=\"session_date\", y=\"percent_correct\", marker=\"o\")\n",
    "    plt.title(f\"Percent Correct Over Time (Rat {rat_id})\")\n",
    "    plt.xticks(rotation=45)\n",
    "    plt.ylim(0, 100)\n",
    "    plt.tight_layout()\n",
    "    plt.show()\n",
    "\n",
    "    plt.figure(figsize=(10, 5))\n",
    "    sns.lineplot(data=df_summary, x=\"session_date\", y=\"avg_response_time\", marker=\"o\")\n",
    "    plt.title(f\"Average Response Time Over Time (Rat {rat_id})\")\n",
    "    plt.xticks(rotation=45)\n",
    "    plt.tight_layout()\n",
    "    plt.show()\n",
    "else:\n",
    "    print(\"No data available to plot.\")"
   ]
  }
 ],
 "metadata": {
  "kernelspec": {
   "display_name": "Python 3",
   "language": "python",
   "name": "python3"
  },
  "language_info": {
   "codemirror_mode": {
    "name": "ipython",
    "version": 3
   },
   "file_extension": ".py",
   "mimetype": "text/x-python",
   "name": "python",
   "nbconvert_exporter": "python",
   "pygments_lexer": "ipython3",
   "version": "3.8.10"
  }
 },
 "nbformat": 4,
 "nbformat_minor": 2
}
